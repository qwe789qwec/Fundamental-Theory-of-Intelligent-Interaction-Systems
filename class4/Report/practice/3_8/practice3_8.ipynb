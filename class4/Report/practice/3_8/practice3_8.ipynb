{
 "cells": [
  {
   "cell_type": "code",
   "execution_count": 4,
   "metadata": {},
   "outputs": [
    {
     "ename": "FileNotFoundError",
     "evalue": "[Errno 2] No such file or directory: './data/VOCdevkit/VOC2012/ImageSets/Segmentation/train.txt'",
     "output_type": "error",
     "traceback": [
      "\u001b[0;31m---------------------------------------------------------------------------\u001b[0m",
      "\u001b[0;31mFileNotFoundError\u001b[0m                         Traceback (most recent call last)",
      "\u001b[1;32m/home/wilson/Documents/Fundamental Theory of Intelligent Interaction Systems/class4/Report/practice/3_8/practice3_8.ipynb Cell 1\u001b[0m in \u001b[0;36m<cell line: 8>\u001b[0;34m()\u001b[0m\n\u001b[1;32m      <a href='vscode-notebook-cell:/home/wilson/Documents/Fundamental%20Theory%20of%20Intelligent%20Interaction%20Systems/class4/Report/practice/3_8/practice3_8.ipynb#W0sZmlsZQ%3D%3D?line=5'>6</a>\u001b[0m \u001b[39mfrom\u001b[39;00m \u001b[39mutils\u001b[39;00m\u001b[39m.\u001b[39;00m\u001b[39mdataloader\u001b[39;00m \u001b[39mimport\u001b[39;00m make_datapath_list, DataTransform\n\u001b[1;32m      <a href='vscode-notebook-cell:/home/wilson/Documents/Fundamental%20Theory%20of%20Intelligent%20Interaction%20Systems/class4/Report/practice/3_8/practice3_8.ipynb#W0sZmlsZQ%3D%3D?line=6'>7</a>\u001b[0m rootpath \u001b[39m=\u001b[39m \u001b[39m\"\u001b[39m\u001b[39m./data/VOCdevkit/VOC2012/\u001b[39m\u001b[39m\"\u001b[39m\n\u001b[0;32m----> <a href='vscode-notebook-cell:/home/wilson/Documents/Fundamental%20Theory%20of%20Intelligent%20Interaction%20Systems/class4/Report/practice/3_8/practice3_8.ipynb#W0sZmlsZQ%3D%3D?line=7'>8</a>\u001b[0m train_img_list, train_anno_list, val_img_list, val_anno_list \u001b[39m=\u001b[39m make_datapath_list(\n\u001b[1;32m      <a href='vscode-notebook-cell:/home/wilson/Documents/Fundamental%20Theory%20of%20Intelligent%20Interaction%20Systems/class4/Report/practice/3_8/practice3_8.ipynb#W0sZmlsZQ%3D%3D?line=8'>9</a>\u001b[0m     rootpath\u001b[39m=\u001b[39;49mrootpath)\n",
      "File \u001b[0;32m~/Documents/Fundamental Theory of Intelligent Interaction Systems/class4/Report/practice/3_8/utils/dataloader.py:36\u001b[0m, in \u001b[0;36mmake_datapath_list\u001b[0;34m(rootpath)\u001b[0m\n\u001b[1;32m     33\u001b[0m train_img_list \u001b[39m=\u001b[39m \u001b[39mlist\u001b[39m()\n\u001b[1;32m     34\u001b[0m train_anno_list \u001b[39m=\u001b[39m \u001b[39mlist\u001b[39m()\n\u001b[0;32m---> 36\u001b[0m \u001b[39mfor\u001b[39;00m line \u001b[39min\u001b[39;00m \u001b[39mopen\u001b[39;49m(train_id_names):\n\u001b[1;32m     37\u001b[0m     file_id \u001b[39m=\u001b[39m line\u001b[39m.\u001b[39mstrip()  \u001b[39m# 空白スペースと改行を除去\u001b[39;00m\n\u001b[1;32m     38\u001b[0m     img_path \u001b[39m=\u001b[39m (imgpath_template \u001b[39m%\u001b[39m file_id)  \u001b[39m# 画像のパス\u001b[39;00m\n",
      "\u001b[0;31mFileNotFoundError\u001b[0m: [Errno 2] No such file or directory: './data/VOCdevkit/VOC2012/ImageSets/Segmentation/train.txt'"
     ]
    }
   ],
   "source": [
    "from PIL import Image\n",
    "import numpy as np\n",
    "import matplotlib.pyplot as plt\n",
    "\n",
    "import torch\n",
    "from utils.dataloader import make_datapath_list, DataTransform\n",
    "rootpath = \"./data/VOCdevkit/VOC2012/\"\n",
    "train_img_list, train_anno_list, val_img_list, val_anno_list = make_datapath_list(\n",
    "    rootpath=rootpath)\n"
   ]
  }
 ],
 "metadata": {
  "kernelspec": {
   "display_name": "Python 3.9.12 ('base')",
   "language": "python",
   "name": "python3"
  },
  "language_info": {
   "codemirror_mode": {
    "name": "ipython",
    "version": 3
   },
   "file_extension": ".py",
   "mimetype": "text/x-python",
   "name": "python",
   "nbconvert_exporter": "python",
   "pygments_lexer": "ipython3",
   "version": "3.9.12"
  },
  "orig_nbformat": 4,
  "vscode": {
   "interpreter": {
    "hash": "2000d0dc9cd0d7a1d236037107defafbaf93dd32327d175fba31c6a2adfa00d2"
   }
  }
 },
 "nbformat": 4,
 "nbformat_minor": 2
}
