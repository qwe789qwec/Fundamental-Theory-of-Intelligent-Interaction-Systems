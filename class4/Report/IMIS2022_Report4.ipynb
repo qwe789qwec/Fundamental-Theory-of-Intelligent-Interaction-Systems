{
  "cells": [
    {
      "cell_type": "markdown",
      "metadata": {
        "colab_type": "text",
        "id": "view-in-github"
      },
      "source": [
        "<a href=\"https://colab.research.google.com/github/kameda-yoshinari/IMISToolExeA2022/blob/main/Report/IMISToolA2022_Report4.ipynb\" target=\"_parent\"><img src=\"https://colab.research.google.com/assets/colab-badge.svg\" alt=\"Open In Colab\"/></a>"
      ]
    },
    {
      "cell_type": "markdown",
      "metadata": {
        "id": "-SqpuNOEWS-a"
      },
      "source": [
        "# Report 4 (2022/08/01 ver.B)\n",
        "\n",
        "for Tools for intelligent interaction systems a (0ALE005 / 0AL5706).\n",
        "\n",
        "---\n",
        "\n",
        "* Student ID: 202120389\n",
        "* Name: wei-sheng, wang\n",
        "* Colab account: qwe789qwec@gmail.com\n",
        "\n",
        "---"
      ]
    },
    {
      "cell_type": "markdown",
      "metadata": {
        "id": "8NUVKBVvmvtw"
      },
      "source": [
        "# Report4A: Live capture query with CIFAR-10 or MNIST  \n",
        "\n",
        "* Show the way to build a classfier of CIFAR10 or MNIST.\n",
        "* Provide a python program that captures an image from a camera and that shows its recognition result of the image immediately.\n"
      ]
    },
    {
      "cell_type": "markdown",
      "metadata": {},
      "source": [
        "<span style=\"color:#6960EC\">Import data and dataset, set up the Parameters.</span>"
      ]
    },
    {
      "cell_type": "code",
      "execution_count": 16,
      "metadata": {},
      "outputs": [],
      "source": [
        "import torch\n",
        "import torch.nn as nn\n",
        "import torch.nn.functional as F\n",
        "from torchvision import datasets, transforms\n",
        "\n",
        "num_epochs = 10\n",
        "num_batch = 100\n",
        "learning_rate = 0.001\n",
        "image_size = 28*28\n",
        "\n",
        "# use cuda or cpu\n",
        "device = 'cuda' if torch.cuda.is_available() else 'cpu'\n",
        "\n",
        "# dataset for training\n",
        "train_dataset = datasets.MNIST(\n",
        "    './data',\n",
        "    train = True,\n",
        "    download = True,\n",
        "    transform = transforms.Compose([transforms.ToTensor()])\n",
        "    )\n",
        "\n",
        "# dataset for test\n",
        "test_dataset = datasets.MNIST(\n",
        "    './data', \n",
        "    train = False,\n",
        "    transform = transforms.Compose([transforms.ToTensor()])\n",
        "    )\n",
        "\n",
        "# data loader\n",
        "train_dataloader = torch.utils.data.DataLoader(\n",
        "    train_dataset,\n",
        "    batch_size = num_batch,\n",
        "    shuffle = True\n",
        "    )\n",
        "test_dataloader = torch.utils.data.DataLoader(\n",
        "    test_dataset,     \n",
        "    batch_size = num_batch,\n",
        "    shuffle = True\n",
        "    )"
      ]
    },
    {
      "cell_type": "markdown",
      "metadata": {},
      "source": [
        "<span style=\"color:#6960EC\">Define the neural network model, loss function and optimization methods </span>"
      ]
    },
    {
      "cell_type": "code",
      "execution_count": 17,
      "metadata": {},
      "outputs": [],
      "source": [
        "class Net(nn.Module):\n",
        "    def __init__(self, input_size, output_size):\n",
        "        super(Net, self).__init__()\n",
        "\n",
        "        # Instances of each class (setting input/output size, etc.)\n",
        "        self.fc1 = nn.Linear(input_size, 100)\n",
        "        self.fc2 = nn.Linear(100, output_size)\n",
        "\n",
        "    def forward(self, x):\n",
        "        # Setting up forward propagation (executing a special method (__call__) of the instantiated class)\n",
        "        x = self.fc1(x)\n",
        "        x = torch.sigmoid(x)\n",
        "        x = self.fc2(x)\n",
        "        return F.log_softmax(x, dim=1)\n",
        "\n",
        "# Generating Neural Networks\n",
        "model = Net(image_size, 10).to(device)\n",
        "# Setting up a loss function\n",
        "criterion = nn.CrossEntropyLoss() \n",
        "# Setting up optimization methods\n",
        "optimizer = torch.optim.Adam(model.parameters(), lr = learning_rate) "
      ]
    },
    {
      "cell_type": "markdown",
      "metadata": {},
      "source": [
        "<span style=\"color:#6960EC\">Start training the model</span>"
      ]
    },
    {
      "cell_type": "code",
      "execution_count": 18,
      "metadata": {},
      "outputs": [
        {
          "name": "stdout",
          "output_type": "stream",
          "text": [
            "Epoch: 1/10, Loss: 0.6677824910481771\n",
            "Epoch: 2/10, Loss: 0.2719796244303385\n",
            "Epoch: 3/10, Loss: 0.21459365844726563\n",
            "Epoch: 4/10, Loss: 0.17986653645833334\n",
            "Epoch: 5/10, Loss: 0.15453118642171224\n",
            "Epoch: 6/10, Loss: 0.1352737045288086\n",
            "Epoch: 7/10, Loss: 0.1195654296875\n",
            "Epoch: 8/10, Loss: 0.10646343231201172\n",
            "Epoch: 9/10, Loss: 0.09567886352539062\n",
            "Epoch: 10/10, Loss: 0.0860815684000651\n"
          ]
        }
      ],
      "source": [
        "model.train()  # Put the model in training mode\n",
        "\n",
        "for epoch in range(num_epochs): # learning cycle\n",
        "    loss_sum = 0\n",
        "\n",
        "    for inputs, labels in train_dataloader:\n",
        "\n",
        "        # Send data to GPU if GPU is available\n",
        "        inputs = inputs.to(device)\n",
        "        labels = labels.to(device)\n",
        "\n",
        "        # Initialize optimizer\n",
        "        optimizer.zero_grad()\n",
        "\n",
        "        # Neural network processing.\n",
        "        inputs = inputs.view(-1, image_size) # Reorder image data portions into one dimension\n",
        "        outputs = model(inputs)\n",
        "\n",
        "        # Calculation of loss (error between output and label)\n",
        "        loss = criterion(outputs, labels)\n",
        "        loss_sum += loss\n",
        "\n",
        "        # Gradient Calculation\n",
        "        loss.backward()\n",
        "\n",
        "        # Update Weights\n",
        "        optimizer.step()\n",
        "\n",
        "    # Display of study status\n",
        "    print(f\"Epoch: {epoch+1}/{num_epochs}, Loss: {loss_sum.item() / len(train_dataloader)}\")\n",
        "\n",
        "    # Model weight storage\n",
        "    torch.save(model.state_dict(), 'model_weights.pth')"
      ]
    },
    {
      "cell_type": "markdown",
      "metadata": {},
      "source": [
        "<span style=\"color:#6960EC\">Evaluate the accuracy of the model</span>"
      ]
    },
    {
      "cell_type": "code",
      "execution_count": 20,
      "metadata": {},
      "outputs": [
        {
          "name": "stdout",
          "output_type": "stream",
          "text": [
            "Loss: 0.10440860748291016, Accuracy: 96.83% (9683/10000)\n"
          ]
        }
      ],
      "source": [
        "model.eval()  # Put the model in evaluation mode\n",
        "\n",
        "loss_sum = 0\n",
        "correct = 0\n",
        "\n",
        "with torch.no_grad():\n",
        "    for inputs, labels in test_dataloader:\n",
        "\n",
        "        # Send data to GPU if GPU is available\n",
        "        inputs = inputs.to(device)\n",
        "        labels = labels.to(device)\n",
        "\n",
        "        # Neural network processing.\n",
        "        inputs = inputs.view(-1, image_size) # Reorder image data portions into one dimension\n",
        "        outputs = model(inputs)\n",
        "\n",
        "        # Calculation of loss (error between output and label)\n",
        "        loss_sum += criterion(outputs, labels)\n",
        "\n",
        "        # Get the correct value\n",
        "        pred = outputs.argmax(1)\n",
        "        # Count the number of correct answers\n",
        "        correct += pred.eq(labels.view_as(pred)).sum().item()\n",
        "\n",
        "print(f\"Loss: {loss_sum.item() / len(test_dataloader)}, Accuracy: {100*correct/len(test_dataset)}% ({correct}/{len(test_dataset)})\")\n"
      ]
    },
    {
      "cell_type": "markdown",
      "metadata": {
        "id": "0jF38tfbtz03"
      },
      "source": [
        "---\n",
        "# Report4B: Unique features of PyTorch\n",
        "\n",
        "What are the unique features of PyTorch (compared with other ML libraries)?\n",
        "Find appopriate part in the tutorials / documents in the official pytorch www, site them, and point the features. Then summersize them totally from your viewpoint. \n",
        "\n",
        "* List up at least two unique features. (URL, sentences to fit, and short description for each)\n",
        "* Total summary would be a coule of lines.\n",
        "\n"
      ]
    },
    {
      "cell_type": "markdown",
      "metadata": {},
      "source": [
        "## Model Availability\n",
        "## Deployment Infrastructure\n",
        "## Ecosystems"
      ]
    },
    {
      "cell_type": "markdown",
      "metadata": {
        "id": "aExQhnAcClQB"
      },
      "source": [
        "---\n",
        "# Report4C: Tutorials of pytorch\n",
        "\n",
        "There are [many tutorials](https://github.com/kameda-yoshinari/IMISToolExeA2021/blob/master/300_PyTorch.ipynb) provided by the Pytorch official site. Pick up **four tutorials** (you should complete those tutorials) and make a report for the four tutorials on:\n",
        "\n",
        "* Summary (2-3 lines)\n",
        "* What you learn\n",
        "* The most difficult part\n",
        "\n",
        "Note that you can choose the first two (mandatory ones) in the four choices. \n",
        "However, you should not take all fours in basic category (at least one should be from other category). "
      ]
    },
    {
      "cell_type": "code",
      "execution_count": null,
      "metadata": {},
      "outputs": [],
      "source": []
    },
    {
      "cell_type": "markdown",
      "metadata": {
        "id": "TjOgrYW8lAmy"
      },
      "source": [
        "---\n",
        "# Report4D: Chainer history  \n",
        "\n",
        "Briefly summerize the history of chainer and describe why it was coming and why it had to gone.\n",
        "\n",
        "* Who were the rivals? \n",
        "* What was the chainer's advantage?\n",
        "* What was their disadvantage (that results in their sad end)?\n"
      ]
    },
    {
      "cell_type": "markdown",
      "metadata": {
        "id": "B9Z8A8xin-Ru"
      },
      "source": [
        "(You can put text cells around here)"
      ]
    },
    {
      "cell_type": "markdown",
      "metadata": {
        "id": "EG38xv8ZHJUw"
      },
      "source": [
        "---\n",
        "#Report4E: Your Goole drive usage\n",
        "\n",
        "Find out the amount of your google drive space and report it.  \n",
        "Discuss the availability and what you should do to make it small.\n"
      ]
    },
    {
      "cell_type": "markdown",
      "metadata": {
        "id": "B6eNVn3PJFTM"
      },
      "source": [
        "<span style=\"color:#6960EC\">The amount of my google drive is 15G. This is almost the size of a typical 16G USB flash drive. It is very convenient to use in places where there is internet access, but it will be very inconvenient to transfer larger files if the internet speed is not fast enough.</span>"
      ]
    },
    {
      "cell_type": "markdown",
      "metadata": {
        "id": "c7rf54NjW5f2"
      },
      "source": [
        "---\n",
        "# Report submission\n",
        "\n",
        "The report template will be given in ipynb file.\n",
        "You should save it to your local google colaboratory folder and then edit it to fit your report.\n",
        "\n",
        "The report submission should be made at this cource (0ALE002) at https://manaba.tsukuba.ac.jp .\n",
        "Note that 0ALE005 is coupled with 0ALE002 (and 0AL5706) on manaba system.\n",
        "\n",
        "\n",
        "**File (main)**\n",
        "\n",
        "Download the ipynb to your local machine and then submit the file to the manaba.\n",
        "\n",
        "\n",
        "\n",
        "\n"
      ]
    },
    {
      "cell_type": "markdown",
      "metadata": {
        "id": "mrwIDJcJkSCk"
      },
      "source": [
        "---\n",
        "Tools and Practices for Intelligent Interaction Systems A  \n",
        "Master's and Docotal programs in intelligent and mechanical interaction systems, University of Tsukuba, Japan.  \n",
        "KAMEDA Yoshinari, SHIBUYA Takeshi  \n",
        "\n",
        "知能システムツール演習a  \n",
        "知能機能システム学位プログラム (筑波大学大学院)  \n",
        "担当：亀田能成，澁谷長史  \n",
        "\n",
        "2022/08/01. Ver.B. (File submission only)\n",
        "2022/08/01. Ver.A.\n",
        " \n",
        "\n"
      ]
    }
  ],
  "metadata": {
    "colab": {
      "authorship_tag": "ABX9TyPt0pnG2Fay11o8GzIeKqWx",
      "collapsed_sections": [],
      "include_colab_link": true,
      "name": "IMISToolA2022-Report4",
      "provenance": []
    },
    "kernelspec": {
      "display_name": "Python 3.9.12 ('base')",
      "language": "python",
      "name": "python3"
    },
    "language_info": {
      "codemirror_mode": {
        "name": "ipython",
        "version": 3
      },
      "file_extension": ".py",
      "mimetype": "text/x-python",
      "name": "python",
      "nbconvert_exporter": "python",
      "pygments_lexer": "ipython3",
      "version": "3.9.12"
    },
    "vscode": {
      "interpreter": {
        "hash": "2000d0dc9cd0d7a1d236037107defafbaf93dd32327d175fba31c6a2adfa00d2"
      }
    }
  },
  "nbformat": 4,
  "nbformat_minor": 0
}
